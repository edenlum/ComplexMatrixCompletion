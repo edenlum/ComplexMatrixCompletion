{
  "nbformat": 4,
  "nbformat_minor": 0,
  "metadata": {
    "colab": {
      "provenance": [],
      "gpuType": "V100",
      "authorship_tag": "ABX9TyNZxtpBDHEnEkod+F6IEhgp",
      "include_colab_link": true
    },
    "kernelspec": {
      "name": "python3",
      "display_name": "Python 3"
    },
    "language_info": {
      "name": "python"
    },
    "accelerator": "GPU"
  },
  "cells": [
    {
      "cell_type": "markdown",
      "metadata": {
        "id": "view-in-github",
        "colab_type": "text"
      },
      "source": [
        "<a href=\"https://colab.research.google.com/github/edenlum/ComplexMatrixCompletion/blob/main/ComplexMatrixCompletion.ipynb\" target=\"_parent\"><img src=\"https://colab.research.google.com/assets/colab-badge.svg\" alt=\"Open In Colab\"/></a>"
      ]
    },
    {
      "cell_type": "code",
      "execution_count": null,
      "metadata": {
        "colab": {
          "base_uri": "https://localhost:8080/"
        },
        "id": "_o14u8NboHbB",
        "outputId": "bbc98502-038a-48c8-c0ea-e4ec3cffba24"
      },
      "outputs": [
        {
          "output_type": "stream",
          "name": "stdout",
          "text": [
            "/content\n",
            "Cloning into 'ComplexMatrixCompletion'...\n",
            "remote: Enumerating objects: 9, done.\u001b[K\n",
            "remote: Counting objects: 100% (9/9), done.\u001b[K\n",
            "remote: Compressing objects: 100% (9/9), done.\u001b[K\n",
            "remote: Total 9 (delta 1), reused 8 (delta 0), pack-reused 0\u001b[K\n",
            "Receiving objects: 100% (9/9), 5.56 KiB | 5.56 MiB/s, done.\n",
            "Resolving deltas: 100% (1/1), done.\n"
          ]
        }
      ],
      "source": [
        "%cd /content\n",
        "!rm -rf BANND\n",
        "!git clone https://github.com/edenlum/ComplexMatrixCompletion.git"
      ]
    },
    {
      "cell_type": "code",
      "source": [
        "%cd ComplexMatrixCompletion/"
      ],
      "metadata": {
        "colab": {
          "base_uri": "https://localhost:8080/"
        },
        "id": "MvXmoRR7paXJ",
        "outputId": "163ba16c-b78f-495b-d505-42e81106f607"
      },
      "execution_count": null,
      "outputs": [
        {
          "output_type": "stream",
          "name": "stdout",
          "text": [
            "/content/ComplexMatrixCompletion\n"
          ]
        }
      ]
    },
    {
      "cell_type": "code",
      "source": [
        "import jax\n",
        "print(\"Devices:\", jax.devices('gpu'))"
      ],
      "metadata": {
        "colab": {
          "base_uri": "https://localhost:8080/"
        },
        "id": "rEdWMDhZovzG",
        "outputId": "a62e9518-539c-4c7c-9aa9-5352c6e5117a"
      },
      "execution_count": 5,
      "outputs": [
        {
          "output_type": "stream",
          "name": "stdout",
          "text": [
            "Devices: [cuda(id=0)]\n"
          ]
        }
      ]
    },
    {
      "cell_type": "code",
      "source": [
        "!python matrix_completion.py"
      ],
      "metadata": {
        "colab": {
          "base_uri": "https://localhost:8080/"
        },
        "id": "jSJW8GR7pRV0",
        "outputId": "6590c182-586e-4cd5-837c-ada9eb90e409"
      },
      "execution_count": 6,
      "outputs": [
        {
          "output_type": "stream",
          "name": "stdout",
          "text": [
            "[[ 0.          0.          0.         ...  0.          0.\n",
            "   0.        ]\n",
            " [ 0.          0.          0.         ...  0.          0.\n",
            "  -0.14026597]\n",
            " [ 0.          0.66539866  0.         ...  0.          0.\n",
            "   0.        ]\n",
            " ...\n",
            " [ 0.          0.         -0.69935477 ...  0.          0.\n",
            "   0.        ]\n",
            " [ 0.1524275   0.          0.         ...  0.          0.\n",
            "   0.        ]\n",
            " [ 0.05918284  0.          0.         ...  0.          0.\n",
            "   0.        ]]\n",
            "initial SVD: [9.6151187e-10 8.8491664e-10 7.8316648e-10 6.8130984e-10 6.1230632e-10\n",
            " 6.0151384e-10 5.6810906e-10 5.4933147e-10 4.7793458e-10 4.3395212e-10\n",
            " 4.1177900e-10 3.7895881e-10 3.5459874e-10 3.2208536e-10 3.0240366e-10\n",
            " 2.8339786e-10 2.6914770e-10 2.5652791e-10 2.3937258e-10 2.1342543e-10\n",
            " 1.9510599e-10 1.7734772e-10 1.7395900e-10 1.4881221e-10 1.3374550e-10\n",
            " 1.2547553e-10 1.1924819e-10 1.0670223e-10 9.8477608e-11 9.0319301e-11\n",
            " 7.6267388e-11 6.0205056e-11 5.5705048e-11 4.5306026e-11 4.4585360e-11\n",
            " 3.8542548e-11 3.2303688e-11 2.9161850e-11 2.3949009e-11 2.1158861e-11\n",
            " 1.3159039e-11 1.2035896e-11 9.4463916e-12 4.9808044e-12 3.2256541e-12\n",
            " 2.5638059e-12 1.0933596e-12 6.7924751e-13 8.1281058e-14 1.1052482e-14]\n",
            "\n",
            "initial norm: 2.3956350236886692e-09\n",
            "\n",
            "Epoch: 0, Train loss: Traced<ShapedArray(float32[])>with<DynamicJaxprTrace(level=1/0)>, Test loss: 0.49999988079071045\n",
            "Epoch: 1000, Train loss: Traced<ShapedArray(float32[])>with<DynamicJaxprTrace(level=1/0)>, Test loss: 0.5361537337303162\n",
            "Epoch: 2000, Train loss: Traced<ShapedArray(float32[])>with<DynamicJaxprTrace(level=1/0)>, Test loss: 0.5632022023200989\n",
            "Epoch: 3000, Train loss: Traced<ShapedArray(float32[])>with<DynamicJaxprTrace(level=1/0)>, Test loss: 0.656885027885437\n",
            "Epoch: 4000, Train loss: Traced<ShapedArray(float32[])>with<DynamicJaxprTrace(level=1/0)>, Test loss: 0.7968822121620178\n",
            "Epoch: 5000, Train loss: Traced<ShapedArray(float32[])>with<DynamicJaxprTrace(level=1/0)>, Test loss: 0.9136510491371155\n",
            "Epoch: 6000, Train loss: Traced<ShapedArray(float32[])>with<DynamicJaxprTrace(level=1/0)>, Test loss: 0.9704140424728394\n",
            "Epoch: 7000, Train loss: Traced<ShapedArray(float32[])>with<DynamicJaxprTrace(level=1/0)>, Test loss: 1.0161913633346558\n",
            "Epoch: 8000, Train loss: Traced<ShapedArray(float32[])>with<DynamicJaxprTrace(level=1/0)>, Test loss: 1.0392482280731201\n",
            "Epoch: 9000, Train loss: Traced<ShapedArray(float32[])>with<DynamicJaxprTrace(level=1/0)>, Test loss: 1.0456570386886597\n",
            "Final SVD:\n",
            "[4.89305801e+01 4.08173027e+01 2.92492237e+01 2.20908356e+01\n",
            " 1.17967796e+01 5.75942039e+00 2.24650669e+00 3.56809974e-01\n",
            " 1.88717708e-01 4.74955738e-02 2.10031141e-02 1.53603340e-02\n",
            " 8.40724725e-03 6.48005446e-03 4.59425710e-03 2.19060224e-03\n",
            " 1.96912792e-03 1.44753826e-03 1.18645548e-03 8.04446405e-04\n",
            " 5.23597642e-04 3.66549823e-04 2.72942882e-04 1.61784439e-04\n",
            " 1.14372495e-04 7.40873729e-05 4.12793233e-05 2.99635813e-05\n",
            " 2.35777243e-05 1.36067902e-05 1.12652742e-05 7.68371410e-06\n",
            " 4.13068256e-06 2.72333614e-06 2.38794996e-06 1.79407891e-06\n",
            " 1.57223144e-06 1.44537853e-06 1.19890251e-06 1.09561029e-06\n",
            " 9.67856295e-07 8.00301564e-07 6.34643868e-07 4.92088759e-07\n",
            " 4.16962848e-07 3.58193262e-07 2.88270002e-07 1.67717346e-07\n",
            " 1.46698497e-07 5.84953916e-08]\n",
            "Final norm: 74.70825958251953\n"
          ]
        }
      ]
    },
    {
      "cell_type": "code",
      "source": [],
      "metadata": {
        "id": "UcV-Xp953l0W"
      },
      "execution_count": null,
      "outputs": []
    }
  ]
}