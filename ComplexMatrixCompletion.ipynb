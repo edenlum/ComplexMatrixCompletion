{
  "nbformat": 4,
  "nbformat_minor": 0,
  "metadata": {
    "colab": {
      "provenance": [],
      "gpuType": "V100",
      "authorship_tag": "ABX9TyMf3Nx57rrXaDvDAPFIA/1o",
      "include_colab_link": true
    },
    "kernelspec": {
      "name": "python3",
      "display_name": "Python 3"
    },
    "language_info": {
      "name": "python"
    },
    "accelerator": "GPU"
  },
  "cells": [
    {
      "cell_type": "markdown",
      "metadata": {
        "id": "view-in-github",
        "colab_type": "text"
      },
      "source": [
        "<a href=\"https://colab.research.google.com/github/edenlum/ComplexMatrixCompletion/blob/main/ComplexMatrixCompletion.ipynb\" target=\"_parent\"><img src=\"https://colab.research.google.com/assets/colab-badge.svg\" alt=\"Open In Colab\"/></a>"
      ]
    },
    {
      "cell_type": "code",
      "execution_count": 1,
      "metadata": {
        "colab": {
          "base_uri": "https://localhost:8080/"
        },
        "id": "_o14u8NboHbB",
        "outputId": "bbc98502-038a-48c8-c0ea-e4ec3cffba24"
      },
      "outputs": [
        {
          "output_type": "stream",
          "name": "stdout",
          "text": [
            "/content\n",
            "Cloning into 'ComplexMatrixCompletion'...\n",
            "remote: Enumerating objects: 9, done.\u001b[K\n",
            "remote: Counting objects: 100% (9/9), done.\u001b[K\n",
            "remote: Compressing objects: 100% (9/9), done.\u001b[K\n",
            "remote: Total 9 (delta 1), reused 8 (delta 0), pack-reused 0\u001b[K\n",
            "Receiving objects: 100% (9/9), 5.56 KiB | 5.56 MiB/s, done.\n",
            "Resolving deltas: 100% (1/1), done.\n"
          ]
        }
      ],
      "source": [
        "%cd /content\n",
        "!rm -rf BANND\n",
        "!git clone https://github.com/edenlum/ComplexMatrixCompletion.git"
      ]
    },
    {
      "cell_type": "code",
      "source": [
        "%cd ComplexMatrixCompletion/"
      ],
      "metadata": {
        "colab": {
          "base_uri": "https://localhost:8080/"
        },
        "id": "MvXmoRR7paXJ",
        "outputId": "163ba16c-b78f-495b-d505-42e81106f607"
      },
      "execution_count": 4,
      "outputs": [
        {
          "output_type": "stream",
          "name": "stdout",
          "text": [
            "/content/ComplexMatrixCompletion\n"
          ]
        }
      ]
    },
    {
      "cell_type": "code",
      "source": [
        "import jax\n",
        "print(\"Devices:\", jax.devices('gpu'))"
      ],
      "metadata": {
        "colab": {
          "base_uri": "https://localhost:8080/"
        },
        "id": "rEdWMDhZovzG",
        "outputId": "b3070339-6c7e-4745-ee84-41fc40ab2118"
      },
      "execution_count": 7,
      "outputs": [
        {
          "output_type": "stream",
          "name": "stdout",
          "text": [
            "Devices: [cuda(id=0)]\n"
          ]
        }
      ]
    },
    {
      "cell_type": "code",
      "source": [
        "!python matrix_completion.py"
      ],
      "metadata": {
        "colab": {
          "base_uri": "https://localhost:8080/"
        },
        "id": "jSJW8GR7pRV0",
        "outputId": "2716b5ba-e9d1-4247-def4-f8ce74896e42"
      },
      "execution_count": 25,
      "outputs": [
        {
          "output_type": "stream",
          "name": "stdout",
          "text": [
            "[[ 0.         0.         0.        ...  0.         0.         0.       ]\n",
            " [ 0.         0.         0.        ...  0.         0.        -1.3922832]\n",
            " [ 0.        -0.8396402  0.        ...  0.         0.         0.       ]\n",
            " ...\n",
            " [ 0.         0.        -0.7666634 ...  0.         0.         0.       ]\n",
            " [ 0.5014862  0.         0.        ...  0.         0.         0.       ]\n",
            " [-0.7004029  0.         0.        ...  0.         0.         0.       ]]\n",
            "initial SVD: [9.6151187e-10 8.8491664e-10 7.8316648e-10 6.8130984e-10 6.1230632e-10\n",
            " 6.0151384e-10 5.6810906e-10 5.4933147e-10 4.7793458e-10 4.3395212e-10\n",
            " 4.1177900e-10 3.7895881e-10 3.5459874e-10 3.2208536e-10 3.0240366e-10\n",
            " 2.8339786e-10 2.6914770e-10 2.5652791e-10 2.3937258e-10 2.1342543e-10\n",
            " 1.9510599e-10 1.7734772e-10 1.7395900e-10 1.4881221e-10 1.3374550e-10\n",
            " 1.2547553e-10 1.1924819e-10 1.0670223e-10 9.8477608e-11 9.0319301e-11\n",
            " 7.6267388e-11 6.0205056e-11 5.5705048e-11 4.5306026e-11 4.4585360e-11\n",
            " 3.8542548e-11 3.2303688e-11 2.9161850e-11 2.3949009e-11 2.1158861e-11\n",
            " 1.3159039e-11 1.2035896e-11 9.4463916e-12 4.9808044e-12 3.2256541e-12\n",
            " 2.5638059e-12 1.0933596e-12 6.7924751e-13 8.1281058e-14 1.1052482e-14]\n",
            "\n",
            "initial norm: 2.3956350236886692e-09\n",
            "\n",
            "Epoch: 0, Train loss: Traced<ShapedArray(float32[])>with<DynamicJaxprTrace(level=1/0)>, Test loss: 0.5000000596046448\n",
            "Epoch: 1000, Train loss: Traced<ShapedArray(float32[])>with<DynamicJaxprTrace(level=1/0)>, Test loss: 0.511807918548584\n",
            "Epoch: 2000, Train loss: Traced<ShapedArray(float32[])>with<DynamicJaxprTrace(level=1/0)>, Test loss: 0.6496199369430542\n",
            "Epoch: 3000, Train loss: Traced<ShapedArray(float32[])>with<DynamicJaxprTrace(level=1/0)>, Test loss: 0.7846583127975464\n",
            "Epoch: 4000, Train loss: Traced<ShapedArray(float32[])>with<DynamicJaxprTrace(level=1/0)>, Test loss: 0.7251095771789551\n",
            "Epoch: 5000, Train loss: Traced<ShapedArray(float32[])>with<DynamicJaxprTrace(level=1/0)>, Test loss: 0.7505767345428467\n",
            "Epoch: 6000, Train loss: Traced<ShapedArray(float32[])>with<DynamicJaxprTrace(level=1/0)>, Test loss: 0.8108145594596863\n",
            "Epoch: 7000, Train loss: Traced<ShapedArray(float32[])>with<DynamicJaxprTrace(level=1/0)>, Test loss: 0.8527980446815491\n",
            "Epoch: 8000, Train loss: Traced<ShapedArray(float32[])>with<DynamicJaxprTrace(level=1/0)>, Test loss: 0.8728719353675842\n",
            "Epoch: 9000, Train loss: Traced<ShapedArray(float32[])>with<DynamicJaxprTrace(level=1/0)>, Test loss: 0.8841460943222046\n",
            "Final SVD:\n",
            "[5.76634560e+01 3.49048996e+01 2.28211632e+01 1.55062895e+01\n",
            " 1.22949677e+01 8.57200336e+00 1.37740648e+00 1.03181586e-01\n",
            " 5.98688275e-02 2.16014944e-02 1.48147084e-02 6.86131418e-03\n",
            " 3.93336313e-03 1.58095383e-03 1.33089442e-03 8.20711604e-04\n",
            " 5.14689251e-04 2.99949490e-04 1.52871988e-04 9.06768473e-05\n",
            " 5.89567680e-05 3.77189936e-05 2.81385001e-05 1.14390859e-05\n",
            " 8.96054826e-06 5.59156842e-06 3.12223892e-06 2.36663186e-06\n",
            " 2.29512921e-06 2.03646596e-06 1.77238383e-06 1.47039646e-06\n",
            " 1.28348108e-06 1.16984927e-06 1.15513888e-06 1.01700471e-06\n",
            " 8.00562020e-07 7.31826390e-07 6.77345326e-07 6.02775572e-07\n",
            " 5.60284775e-07 4.62568721e-07 3.91417558e-07 3.34423902e-07\n",
            " 2.32796069e-07 1.46043874e-07 1.32418975e-07 1.11607932e-07\n",
            " 5.01936235e-08 3.15777404e-09]\n",
            "Final norm: 74.37226104736328\n"
          ]
        }
      ]
    },
    {
      "cell_type": "code",
      "source": [
        "Final SVD:\n",
        "[2.0682775e+01 1.7267033e+01 1.1963992e+01 9.4280462e+00 6.6497355e+00\n",
        " 4.6468005e+00 3.9025171e+00 3.2140753e+00 2.6428418e+00 2.3814905e+00\n",
        " 1.9247565e+00 1.5454708e+00 1.5142559e+00 1.2786422e+00 1.1456267e+00\n",
        " 1.0355456e+00 9.5542449e-01 8.9996094e-01 6.4784926e-01 6.2437439e-01\n",
        " 4.2508870e-01 3.8112503e-01 3.6672384e-01 3.4079811e-01 2.6908094e-01\n",
        " 2.3096941e-01 2.1569644e-01 1.9133113e-01 1.8859786e-01 1.5390149e-01\n",
        " 1.2937692e-01 1.1159621e-01 9.6745044e-02 9.5512047e-02 7.4188076e-02\n",
        " 5.9156537e-02 5.4724060e-02 3.7251227e-02 3.5298627e-02 2.4840664e-02\n",
        " 2.2241082e-02 2.0144349e-02 1.3645013e-02 1.1818922e-02 6.1990763e-03\n",
        " 4.5443154e-03 3.5461201e-03 1.5521495e-03 9.9555973e-04 2.4533208e-04]\n",
        "Final norm: 32.83028793334961"
      ],
      "metadata": {
        "colab": {
          "base_uri": "https://localhost:8080/",
          "height": 145
        },
        "id": "p8LKt-AypYnB",
        "outputId": "ff7e6a69-e286-4522-cc98-49f562d77f61"
      },
      "execution_count": 23,
      "outputs": [
        {
          "output_type": "error",
          "ename": "SyntaxError",
          "evalue": "ignored",
          "traceback": [
            "\u001b[0;36m  File \u001b[0;32m\"<ipython-input-23-2a7f520c369f>\"\u001b[0;36m, line \u001b[0;32m1\u001b[0m\n\u001b[0;31m    Final SVD:\u001b[0m\n\u001b[0m          ^\u001b[0m\n\u001b[0;31mSyntaxError\u001b[0m\u001b[0;31m:\u001b[0m invalid syntax\n"
          ]
        }
      ]
    },
    {
      "cell_type": "code",
      "source": [
        "Final SVD:\n",
        "[8.061624   6.968262   6.131879   5.8048444  5.104816   5.013314\n",
        " 4.6987424  4.566446   4.1722264  3.837979   3.779656   3.6232243\n",
        " 3.514394   3.154739   3.0197291  2.8997874  2.8201394  2.6662247\n",
        " 2.5484686  2.5032868  2.3204167  2.1890154  2.020176   1.9913591\n",
        " 1.8734895  1.7784009  1.7468135  1.610515   1.5525595  1.337304\n",
        " 1.335587   1.2604856  1.0544273  1.0385832  0.9922666  0.881053\n",
        " 0.81697273 0.7396745  0.7220913  0.7081023  0.5594893  0.4575954\n",
        " 0.3970833  0.3191182  0.26206714 0.23077334 0.16341487 0.07597552\n",
        " 0.03563377 0.02777287]"
      ],
      "metadata": {
        "colab": {
          "base_uri": "https://localhost:8080/",
          "height": 145
        },
        "id": "Pai-Sopn3lRI",
        "outputId": "ee63d1aa-2569-42cd-b151-09dfa6f7f84d"
      },
      "execution_count": 24,
      "outputs": [
        {
          "output_type": "error",
          "ename": "SyntaxError",
          "evalue": "ignored",
          "traceback": [
            "\u001b[0;36m  File \u001b[0;32m\"<ipython-input-24-d475b698dc32>\"\u001b[0;36m, line \u001b[0;32m1\u001b[0m\n\u001b[0;31m    Final SVD:\u001b[0m\n\u001b[0m          ^\u001b[0m\n\u001b[0;31mSyntaxError\u001b[0m\u001b[0;31m:\u001b[0m invalid syntax\n"
          ]
        }
      ]
    },
    {
      "cell_type": "code",
      "source": [],
      "metadata": {
        "id": "UcV-Xp953l0W"
      },
      "execution_count": null,
      "outputs": []
    }
  ]
}